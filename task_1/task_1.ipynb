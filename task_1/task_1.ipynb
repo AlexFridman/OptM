{
 "cells": [
  {
   "cell_type": "code",
   "execution_count": 1,
   "metadata": {
    "collapsed": true
   },
   "outputs": [],
   "source": [
    "import doctest\n",
    "import numpy as np"
   ]
  },
  {
   "cell_type": "code",
   "execution_count": 61,
   "metadata": {
    "collapsed": true
   },
   "outputs": [],
   "source": [
    "def func(A, A_inv, x):\n",
    "    l = A_inv.dot(x)\n",
    "    if l[0] == 0:\n",
    "        raise Exception('A_hat is singular.')\n",
    "    else:\n",
    "        l_hat = l.copy()\n",
    "        l_hat[k] = -1\n",
    "        q = (-1/l[k]) * l_hat\n",
    "        Q = np.identity(m)\n",
    "        Q[:,k] = q\n",
    "        A_hat_inv = Q.dot(A_inv)\n",
    "        return A_hat_inv"
   ]
  },
  {
   "cell_type": "code",
   "execution_count": 16,
   "metadata": {
    "collapsed": false
   },
   "outputs": [
    {
     "data": {
      "text/plain": [
       "array([[  1.   ,  12.   ,   0.   ],\n",
       "       [  0.   ,   1.   ,   0.   ],\n",
       "       [  0.   ,  -4.   ,   0.125]])"
      ]
     },
     "execution_count": 16,
     "metadata": {},
     "output_type": "execute_result"
    }
   ],
   "source": [
    "def inv(C):\n",
    "    \"\"\"\n",
    "    >>> C = np.array([[0, 0, 2], [0, 1, 0], [2, -4, 0]])\n",
    "    >>> C.dot()\n",
    "    array([[ 1.,  0.,  0.],\n",
    "       [ 0.,  1.,  0.],\n",
    "       [ 0.,  0.,  1.]])\n",
    "    \"\"\"\n",
    "    m, _ = C.shape\n",
    "    A, A_inv = np.identity(m), np.identity(m)\n",
    "    used_set, r = set(), np.zeros(m)\n",
    "    for i in range(m):\n",
    "        j = choose_column(i, C, A_inv, used_set)\n",
    "        r[i] = j\n",
    "        used_set.add(j)\n",
    "        A_hat = A.copy(); A_hat[:,i] = C[:,j]\n",
    "        l = A_inv.dot(C[:,j])\n",
    "        l_hat = l.copy(); l_hat[i] = -1\n",
    "        q = (-1/l[i]) * l_hat\n",
    "        Q = A_inv.copy(); Q[:,i] = q\n",
    "        A_hat_inv = Q.dot(A_inv)\n",
    "        A, A_inv = A_hat, A_hat_inv\n",
    "    return A_inv[:,r.astype(int)]\n",
    "        \n",
    "        \n",
    "def choose_column(i, C, A_inv, used):\n",
    "    m, _ = C.shape\n",
    "    for j in (j for j in range(m) if j not in used):\n",
    "        l = A_inv.dot(C[:, j])\n",
    "        if l[i] != 0:\n",
    "            return j\n",
    "    raise Exception('The C is singular')\n",
    "    \n",
    "C = np.array([[0, 0, 2], [0, 1, 0], [2, -4, 0]])\n",
    "C.dot(inv(C))"
   ]
  },
  {
   "cell_type": "code",
   "execution_count": 10,
   "metadata": {
    "collapsed": false
   },
   "outputs": [
    {
     "data": {
      "text/plain": [
       "array([[ 0,  0,  2],\n",
       "       [ 0,  1,  0],\n",
       "       [ 2, -4,  0]])"
      ]
     },
     "execution_count": 10,
     "metadata": {},
     "output_type": "execute_result"
    }
   ],
   "source": [
    "C = np.array([[0,0,2], [0,1,0], [2, -4, 0]])\n",
    "C"
   ]
  },
  {
   "cell_type": "code",
   "execution_count": 12,
   "metadata": {
    "collapsed": false
   },
   "outputs": [
    {
     "data": {
      "text/plain": [
       "array([[ 0,  0,  2],\n",
       "       [ 1,  0,  0],\n",
       "       [-4,  2,  0]])"
      ]
     },
     "execution_count": 12,
     "metadata": {},
     "output_type": "execute_result"
    }
   ],
   "source": [
    "C[:,[1,0,2]]"
   ]
  },
  {
   "cell_type": "code",
   "execution_count": 106,
   "metadata": {
    "collapsed": false
   },
   "outputs": [
    {
     "name": "stdout",
     "output_type": "stream",
     "text": [
      "[ 2.  1.  0.]\n"
     ]
    },
    {
     "data": {
      "text/plain": [
       "array([[-1. , -1. ,  0.2],\n",
       "       [-5. ,  4. , -0.2],\n",
       "       [ 7. , -2. , -0.2]])"
      ]
     },
     "execution_count": 106,
     "metadata": {},
     "output_type": "execute_result"
    }
   ],
   "source": [
    "inv(C)"
   ]
  },
  {
   "cell_type": "code",
   "execution_count": 2,
   "metadata": {
    "collapsed": true
   },
   "outputs": [],
   "source": [
    "from numpy import linalg"
   ]
  },
  {
   "cell_type": "code",
   "execution_count": 5,
   "metadata": {
    "collapsed": false
   },
   "outputs": [
    {
     "data": {
      "text/plain": [
       "array([[ 1.,  0.,  0.],\n",
       "       [ 0.,  1.,  0.],\n",
       "       [ 0.,  0.,  1.]])"
      ]
     },
     "execution_count": 5,
     "metadata": {},
     "output_type": "execute_result"
    }
   ],
   "source": [
    "C.dot(linalg.inv(C))"
   ]
  },
  {
   "cell_type": "code",
   "execution_count": null,
   "metadata": {
    "collapsed": true
   },
   "outputs": [],
   "source": []
  }
 ],
 "metadata": {
  "kernelspec": {
   "display_name": "Python 3",
   "language": "python",
   "name": "python3"
  },
  "language_info": {
   "codemirror_mode": {
    "name": "ipython",
    "version": 3
   },
   "file_extension": ".py",
   "mimetype": "text/x-python",
   "name": "python",
   "nbconvert_exporter": "python",
   "pygments_lexer": "ipython3",
   "version": "3.5.1"
  }
 },
 "nbformat": 4,
 "nbformat_minor": 0
}
