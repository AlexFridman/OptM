{
 "cells": [
  {
   "cell_type": "code",
   "execution_count": 1,
   "metadata": {
    "collapsed": true
   },
   "outputs": [],
   "source": [
    "import numpy as np"
   ]
  },
  {
   "cell_type": "code",
   "execution_count": 2,
   "metadata": {
    "collapsed": false
   },
   "outputs": [
    {
     "name": "stdout",
     "output_type": "stream",
     "text": [
      "[[ 1.  0.  0.]\n",
      " [ 0.  1.  0.]\n",
      " [ 0.  0.  1.]]\n",
      "[[ 0.   2.   0.5]\n",
      " [ 0.   1.   0. ]\n",
      " [ 0.5  0.   0. ]]\n"
     ]
    }
   ],
   "source": [
    "def inv(C):\n",
    "    m, _ = C.shape\n",
    "    A, A_inv = np.identity(m), np.identity(m)\n",
    "    used_set, r = set(), np.zeros(m, dtype=int)\n",
    "    for i in range(m):\n",
    "        j = choose_column(i, C, A_inv, used_set)\n",
    "        r[i] = j\n",
    "        used_set.add(j)\n",
    "        A_hat = A.copy(); A_hat[:,i] = C[:,j]\n",
    "        l = A_inv.dot(C[:,j])\n",
    "        l_hat = l.copy(); l_hat[i] = -1\n",
    "        q = (-1/l[i]) * l_hat\n",
    "        Q = np.identity(m); Q[:,i] = q\n",
    "        A_hat_inv = Q.dot(A_inv)\n",
    "        A, A_inv = A_hat, A_hat_inv\n",
    "    return A_inv[r]\n",
    "        \n",
    "        \n",
    "def choose_column(i, C, A_inv, used):\n",
    "    m, _ = C.shape\n",
    "    for j in (j for j in range(m) if j not in used):\n",
    "        l = A_inv.dot(C[:, j])\n",
    "        if l[i] != 0:\n",
    "            return j\n",
    "    raise Exception('C is singular')\n",
    "    \n",
    "C = np.array([[0, 0, 2], [0, 1, 0], [2, -4, 0]])\n",
    "print(C.dot(inv(C)))\n",
    "print(inv(C))"
   ]
  }
 ],
 "metadata": {
  "kernelspec": {
   "display_name": "Python 3",
   "language": "python",
   "name": "python3"
  },
  "language_info": {
   "codemirror_mode": {
    "name": "ipython",
    "version": 3
   },
   "file_extension": ".py",
   "mimetype": "text/x-python",
   "name": "python",
   "nbconvert_exporter": "python",
   "pygments_lexer": "ipython3",
   "version": "3.5.1"
  }
 },
 "nbformat": 4,
 "nbformat_minor": 0
}
