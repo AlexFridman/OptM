{
 "cells": [
  {
   "cell_type": "code",
   "execution_count": 1,
   "metadata": {
    "collapsed": true
   },
   "outputs": [],
   "source": [
    "import numpy as np"
   ]
  },
  {
   "cell_type": "code",
   "execution_count": 2,
   "metadata": {
    "collapsed": true
   },
   "outputs": [],
   "source": [
    "def zerofy(x, tol=1e-6):\n",
    "    return np.where(np.abs(x) < tol, 0, x)\n",
    "\n",
    "def quadratic_simplex(A, D, c, x_base, J_base, J_star, tol=1e-6):\n",
    "    m, n = A.shape\n",
    "\n",
    "    j_0 = None\n",
    "    skip_til_3_step = False\n",
    "\n",
    "    while True:\n",
    "        # checkpoint\n",
    "        j_0_old = j_0\n",
    "\n",
    "        if not skip_til_3_step:\n",
    "            # step 1\n",
    "            c_x = c + D.dot(x_base)\n",
    "            A_b_inv = np.linalg.inv(A[:, J_base])\n",
    "            u_x = -c_x[J_base].dot(A_b_inv)\n",
    "            d_x = u_x.dot(A) + c_x\n",
    "\n",
    "            # step 2\n",
    "            if np.all(zerofy(d_x[J_star == False]) >= 0):\n",
    "                return x_base\n",
    "\n",
    "        # step 3\n",
    "        j_0 = np.argwhere(zerofy(np.where(J_star == False, d_x, np.infty)) < 0).min()\n",
    "\n",
    "        m = len(np.argwhere(J_base))\n",
    "\n",
    "        D_star = D[J_star, :][:, J_star]\n",
    "        D_J_j0 = D[J_star, j_0]\n",
    "\n",
    "        A_star = A[:, J_star]\n",
    "\n",
    "        H = np.concatenate([np.concatenate([D_star, A_star]), np.concatenate([A_star.T, np.zeros([m, m])])], 1)\n",
    "\n",
    "        bb = np.hstack((D_J_j0, A[:, j_0]))\n",
    "\n",
    "        J_star_non_0_count = len(np.argwhere(J_star))\n",
    "\n",
    "        l_y = -np.linalg.inv(H).dot(bb)\n",
    "        l_star, y = l_y[:J_star_non_0_count], l_y[J_star_non_0_count:]\n",
    "\n",
    "        l = np.zeros(n)\n",
    "        l[j_0] = 1\n",
    "        l[J_star] = l_star\n",
    "\n",
    "        # step 4\n",
    "        delta = l.dot(D).dot(l)\n",
    "\n",
    "        theta = np.zeros(n)\n",
    "        if abs(delta) < tol:\n",
    "            theta[j_0] = np.infty\n",
    "        elif delta > tol:\n",
    "            theta[j_0] = abs(d_x[j_0]) / delta\n",
    "        theta[J_star] = np.where(l[J_star] >= 0, np.infty, -x_base[J_star] / l[J_star])\n",
    "\n",
    "        theta_0 = min(theta[J_star].min(), theta[j_0])\n",
    "        j_star = np.argwhere(theta == theta_0).min()\n",
    "\n",
    "        if theta_0 == np.infty:\n",
    "            raise Exception('Target function is not limited')\n",
    "\n",
    "        # step 5\n",
    "        x_base = x_base + theta_0 * l\n",
    "\n",
    "        # step 6\n",
    "        j_plus = None\n",
    "\n",
    "        def case_C(eq=True):\n",
    "            nonlocal j_plus\n",
    "\n",
    "            J_star_except_J_base = J_star & (J_base == False)\n",
    "            J_base_col_n = len(np.argwhere(J_base))\n",
    "\n",
    "            A_base_inv = np.linalg.inv(A[:, J_base])\n",
    "            for j_s in np.argwhere(J_base).ravel():\n",
    "                for j_plus_local in np.argwhere(J_star_except_J_base).ravel():\n",
    "                    e = np.zeros(J_base_col_n)\n",
    "                    e[j_s] = 1\n",
    "                    if e.dot(A_base_inv).dot(A[:, j_plus_local]) != 0 and eq:\n",
    "                        j_plus = j_plus_local\n",
    "                        return True\n",
    "            return False\n",
    "\n",
    "        def case_D():\n",
    "            return case_C(eq=False) or np.all(J_star == J_base)\n",
    "\n",
    "        skip_til_3_step = False\n",
    "        if j_0 == j_star:\n",
    "            J_star[j_0] = True\n",
    "        elif (J_star & (J_base == False))[j_star]:\n",
    "            J_star[j_star] = False\n",
    "            d_x[j_0] += theta_0 * delta\n",
    "            j_0 = j_0_old\n",
    "            skip_til_3_step = True\n",
    "        elif case_C():\n",
    "            J_base[j_star] = False\n",
    "            J_base[j_plus] = True\n",
    "            J_star[j_star] = False\n",
    "            d_x[j_0] += theta_0 * delta\n",
    "            j_0 = j_0_old\n",
    "            skip_til_3_step = True\n",
    "        elif case_D():\n",
    "            J_base[j_star] = False\n",
    "            J_base[j_0] = True\n",
    "            J_star[j_star] = False\n",
    "            J_star[j_0] = True"
   ]
  },
  {
   "cell_type": "markdown",
   "metadata": {},
   "source": [
    "## Пример 0"
   ]
  },
  {
   "cell_type": "code",
   "execution_count": 3,
   "metadata": {
    "collapsed": false
   },
   "outputs": [
    {
     "data": {
      "text/plain": [
       "array([ 0.1 ,  1.11,  0.  ,  1.21,  0.67,  0.74,  0.  ,  0.82])"
      ]
     },
     "execution_count": 3,
     "metadata": {},
     "output_type": "execute_result"
    }
   ],
   "source": [
    "A = np.array([\n",
    "    [1, 2, 0, 1, 0, 4, -1, -3],\n",
    "    [1, 3, 0, 0, 1, -1, -1, 2],\n",
    "    [1, 4, 1, 0, 0, 2, -2, 0]\n",
    "])\n",
    "\n",
    "m, n = A.shape\n",
    "\n",
    "b = np.array([4, 5, 6])\n",
    "\n",
    "B = np.array([\n",
    "    [1, 1, -1, 0, 3, 4, -2, 1],\n",
    "    [2, 6, 0, 0, 1, -5, 0, -1],\n",
    "    [-1, 2, 0, 0, -1, 1, 1, 1]\n",
    "])\n",
    "\n",
    "d = np.array([7, 3, 3])\n",
    "\n",
    "D = B.T.dot(B)\n",
    "\n",
    "c = -d.dot(B)\n",
    "\n",
    "\n",
    "x_0 = np.array([0, 0, 6, 4, 5, 0, 0, 0])\n",
    "\n",
    "J_base = np.array([False, False, True, True, True, False, False, False])\n",
    "J_star = np.array([False, False, True, True, True, False, False, False])\n",
    "\n",
    "quadratic_simplex(A, D, c, x_0, J_base, J_star).round(2)"
   ]
  },
  {
   "cell_type": "markdown",
   "metadata": {},
   "source": [
    "## Пример 1"
   ]
  },
  {
   "cell_type": "code",
   "execution_count": 4,
   "metadata": {
    "collapsed": false
   },
   "outputs": [
    {
     "data": {
      "text/plain": [
       "array([ 0.79,  1.26,  1.38,  1.15,  0.13,  0.56,  0.07,  0.46])"
      ]
     },
     "execution_count": 4,
     "metadata": {},
     "output_type": "execute_result"
    }
   ],
   "source": [
    "A = np.array([\n",
    "    [11, 0, 0, 1, 0, -4, -1, 1],\n",
    "    [1, 1, 0, 0, 1, -1, -1, 1],\n",
    "    [1, 1, 1, 0, 1, 2, -2, 1]\n",
    "])\n",
    "\n",
    "m, n = A.shape\n",
    "\n",
    "b = np.array([8, 5, 2])\n",
    "\n",
    "B = np.array([\n",
    "    [1, -1, 0, 3, -1, 5, -2, 1],\n",
    "    [2, 5, 0, 0, -1, 4, 0, 0],\n",
    "    [-1, 3, 0, 5, 4, -1, -2, 1],\n",
    "])\n",
    "\n",
    "d = np.array([6, 10, 9])\n",
    "\n",
    "D = B.T.dot(B)\n",
    "\n",
    "c = -d.dot(B)\n",
    "\n",
    "x_0 = np.array([0.7921, 1.2576, 1.3811, 1.1526, 0.1258, 0.5634, 0.0713, 0.4592])\n",
    "\n",
    "J_base = np.array([True, True, True, False, False, False, False, False])\n",
    "J_star = np.array([True, True, True, False, False, False, False, False])\n",
    "\n",
    "quadratic_simplex(A, D, c, x_0, J_base, J_star).round(2)"
   ]
  },
  {
   "cell_type": "markdown",
   "metadata": {},
   "source": [
    "## Пример 2 (неверный ответ)"
   ]
  },
  {
   "cell_type": "code",
   "execution_count": 5,
   "metadata": {
    "collapsed": false
   },
   "outputs": [
    {
     "data": {
      "text/plain": [
       "array([ 0.  ,  0.89,  2.73,  0.  ,  1.15,  1.64,  0.55,  1.97])"
      ]
     },
     "execution_count": 5,
     "metadata": {},
     "output_type": "execute_result"
    }
   ],
   "source": [
    "A = np.array([\n",
    "    [2, -3, 1, 1, 3, 0, 1, 2],\n",
    "    [-1, 3, 1, 0, 1, 4, 5, -6],\n",
    "    [1, 1, -1, 0, 1, -2, 4, 8]\n",
    "])\n",
    "\n",
    "m, n = A.shape\n",
    "\n",
    "b = np.array([8, 4, 14])\n",
    "\n",
    "B = np.array([\n",
    "    [1, 0, 0, 3, -1, 5, 0, 1],\n",
    "    [2, 5, 0, 0, 0, 4, 0, 0],\n",
    "    [-1, 9, 0, 5, 2, -1, -1, 5],\n",
    "])\n",
    "\n",
    "\n",
    "D = B.T.dot(B)\n",
    "\n",
    "c = np.array([-13, -217, 0, -117, -27, -71, 18, -99])\n",
    "\n",
    "x_0 = np.array([0, 2, 0, 0, 4, 0, 0, 1])\n",
    "\n",
    "J_base = np.array([False, True, False, False, True, False, False, True])\n",
    "J_star = np.array([False, True, False, False, True, False, False, True])\n",
    "\n",
    "quadratic_simplex(A, D, c, x_0, J_base, J_star).round(2)"
   ]
  },
  {
   "cell_type": "markdown",
   "metadata": {},
   "source": [
    "## Пример 3"
   ]
  },
  {
   "cell_type": "code",
   "execution_count": 6,
   "metadata": {
    "collapsed": false
   },
   "outputs": [
    {
     "name": "stdout",
     "output_type": "stream",
     "text": [
      "Target function is not limited\n"
     ]
    },
    {
     "name": "stderr",
     "output_type": "stream",
     "text": [
      "/Users/alfrid/Documents/Study/ML/lib/python3.5/site-packages/ipykernel/__main__.py:56: RuntimeWarning: divide by zero encountered in true_divide\n"
     ]
    }
   ],
   "source": [
    "A = np.array([\n",
    "    [0, 2, 1, 4, 3, 0, -5, -10],\n",
    "    [-1, 3, 1, 0, 1, 3, -5, -6],\n",
    "    [1, 1, 1, 0, 1, -2, -5, 8]\n",
    "])\n",
    "\n",
    "b = np.array([6, 4, 14])\n",
    "\n",
    "D = np.array([\n",
    "    [ 1.,  0.,  0.,  0.,  0.,  0.,  0.,  0.],\n",
    "    [ 0.,  1.,  0.,  0.,  0.,  0.,  0.,  0.],\n",
    "    [ 0.,  0.,  0.,  0.,  0.,  0.,  0.,  0.],\n",
    "    [ 0.,  0.,  0.,  1.,  0.,  0.,  0.,  0.],\n",
    "    [ 0.,  0.,  0.,  0.,  1.,  0.,  0.,  0.],\n",
    "    [ 0.,  0.,  0.,  0.,  0.,  1.,  0.,  0.],\n",
    "    [ 0.,  0.,  0.,  0.,  0.,  0.,  0.,  0.],\n",
    "    [ 0.,  0.,  0.,  0.,  0.,  0.,  0.,  1.]\n",
    "])\n",
    "\n",
    "x_0 = np.array([0, 2, 0, 0, 4, 0, 0, 1])\n",
    "\n",
    "c = np.array([1, 3, -1, 3, 5, 2, -2, 0])\n",
    "\n",
    "J_base = np.array([False, True, False, False, True, False, False, True])\n",
    "J_star = np.array([False, True, False, False, True, False, False, True])\n",
    "\n",
    "try:\n",
    "    quadratic_simplex(A, D, c, x_0, J_base, J_star).round(2)\n",
    "except Exception as e:\n",
    "    print(e)"
   ]
  },
  {
   "cell_type": "markdown",
   "metadata": {
    "collapsed": true
   },
   "source": [
    "## Пример 4"
   ]
  },
  {
   "cell_type": "code",
   "execution_count": 7,
   "metadata": {
    "collapsed": false
   },
   "outputs": [
    {
     "name": "stderr",
     "output_type": "stream",
     "text": [
      "/Users/alfrid/Documents/Study/ML/lib/python3.5/site-packages/ipykernel/__main__.py:56: RuntimeWarning: divide by zero encountered in true_divide\n"
     ]
    },
    {
     "data": {
      "text/plain": [
       "array([ 2.18,  0.27,  0.21,  3.1 ,  2.88,  0.  ,  0.  ,  0.18])"
      ]
     },
     "execution_count": 7,
     "metadata": {},
     "output_type": "execute_result"
    }
   ],
   "source": [
    "A = np.array([\n",
    "    [0, 2, 1, 4, 3, 0, -5, -10],\n",
    "    [-1, 1, 1, 0, 1, 1, -1, -1],\n",
    "    [1, 1, 1, 0, 1, -2, -5, 8]\n",
    "])\n",
    "\n",
    "b = np.array([20, 1, 7])\n",
    "\n",
    "D = np.array([\n",
    "    [25., 10., 0., 3., -1., 13., 0., 1.],\n",
    "    [10., 45., 0., 0., 0., 20., 0., 0.],\n",
    "    [0., 0., 20., 0., 0., 0., 0., 0.],\n",
    "    [3., 0., 0., 29., -3., 15., 0., 3.],\n",
    "    [-1., 0., 0., -3., 21., -5., 0., -1],\n",
    "    [13., 20., 0., 15., -5., 61., 0., 5],\n",
    "    [0., 0., 0., 0., 0., 0., 20., 0.],\n",
    "    [1., 0., 0., 3., -1., 5., 0., 21.]\n",
    "])\n",
    "\n",
    "x_0 = np.array([3, 0, 0, 2, 4, 0, 0, 0])\n",
    "\n",
    "c = np.array([1, -3, 4, 3, 5, 6, -2, 0])\n",
    "\n",
    "J_base = np.array([True, False, False, True, True, False, False, False])\n",
    "J_star = np.array([True, False, False, True, True, False, False, False])\n",
    "\n",
    "quadratic_simplex(A, D, c, x_0, J_base, J_star).round(2)"
   ]
  },
  {
   "cell_type": "markdown",
   "metadata": {},
   "source": [
    "## Пример 5"
   ]
  },
  {
   "cell_type": "code",
   "execution_count": 8,
   "metadata": {
    "collapsed": false
   },
   "outputs": [
    {
     "name": "stderr",
     "output_type": "stream",
     "text": [
      "/Users/alfrid/Documents/Study/ML/lib/python3.5/site-packages/ipykernel/__main__.py:56: RuntimeWarning: divide by zero encountered in true_divide\n"
     ]
    },
    {
     "data": {
      "text/plain": [
       "array([ 0.  ,  0.67,  0.  ,  4.67,  0.  ,  0.  ,  1.67,  0.  ])"
      ]
     },
     "execution_count": 8,
     "metadata": {},
     "output_type": "execute_result"
    }
   ],
   "source": [
    "A = np.array([\n",
    "    [0, 0, 1, 5, 2, 0, -5, -4],\n",
    "    [1, 1, -1, 0, 1, -1, -1, -1],\n",
    "    [1, 1, 1, 0, 1, 2, 5, 8]\n",
    "])\n",
    "\n",
    "m, n = A.shape\n",
    "\n",
    "b = np.array([15, -1, 9])\n",
    "\n",
    "D = np.array([\n",
    "    [0., 0., 0., 0., 0., 0., 0., 0.],\n",
    "    [0., 0., 0., 0., 0., 0., 0., 0.],\n",
    "    [0., 0., 0., 0., 0., 0., 0., 0.],\n",
    "    [0., 0., 0., 0., 0., 0., 0., 0.],\n",
    "    [0., 0., 0., 0., 0., 0., 0., 0.],\n",
    "    [0., 0., 0., 0., 0., 0., 0., 0.],\n",
    "    [0., 0., 0., 0., 0., 0., 0., 0.],\n",
    "    [0., 0., 0., 0., 0., 0., 0., 0.]\n",
    "])\n",
    "\n",
    "x_0 = np.array([4, 0, 5, 2, 0, 0, 0, 0])\n",
    "\n",
    "c = np.array([1, -3, 4, 3, 5, 6, -2, 0])\n",
    "\n",
    "J_base = np.array([True, False, True, True, False, False, False, False])\n",
    "J_star = np.array([True, False, True, True, False, False, False, False])\n",
    "\n",
    "quadratic_simplex(A, D, c, x_0, J_base, J_star).round(2)"
   ]
  }
 ],
 "metadata": {
  "kernelspec": {
   "display_name": "Python 3",
   "language": "python",
   "name": "python3"
  },
  "language_info": {
   "codemirror_mode": {
    "name": "ipython",
    "version": 3
   },
   "file_extension": ".py",
   "mimetype": "text/x-python",
   "name": "python",
   "nbconvert_exporter": "python",
   "pygments_lexer": "ipython3",
   "version": "3.5.1"
  }
 },
 "nbformat": 4,
 "nbformat_minor": 0
}
