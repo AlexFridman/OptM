{
 "cells": [
  {
   "cell_type": "code",
   "execution_count": 1,
   "metadata": {
    "collapsed": true
   },
   "outputs": [],
   "source": [
    "import numpy as np"
   ]
  },
  {
   "cell_type": "code",
   "execution_count": 2,
   "metadata": {
    "collapsed": false
   },
   "outputs": [],
   "source": [
    "def dual_simplex(A, b, c, y, j_b):\n",
    "    _, m = A.shape\n",
    "    \n",
    "    # нахождение коплана\n",
    "    delta = y.dot(A) - c\n",
    "    while True:\n",
    "        A_b = A[:, j_b]\n",
    "        B = np.linalg.inv(A_b)\n",
    "        \n",
    "        # нахождение базисных компонентов псевдоплана\n",
    "        ksi_b = B.dot(b)\n",
    "        if np.all(ksi_b >= 0):\n",
    "            opt_plan = np.zeros((m, ))\n",
    "            opt_plan[j_b] = ksi_b\n",
    "            return opt_plan\n",
    "\n",
    "        k = np.argwhere(ksi_b < 0).min()\n",
    "        j_k = np.argwhere(j_b).take(k)\n",
    "        mu = B[k,:].dot(A)\n",
    "        j_n = j_b == False\n",
    "        sigma = np.array([-d/n if n < 0 else np.infty for d, n in zip(delta[j_n], mu[j_n])])\n",
    "        s_0 = sigma.argmin()\n",
    "        sigma_0 = sigma[s_0]\n",
    "        \n",
    "        if sigma_0 == np.infty:\n",
    "            raise Exception('Incompatible constraints')\n",
    "            \n",
    "        j_0 = np.argwhere(j_n).take(s_0)\n",
    "        \n",
    "        # построение нового двойственного плана\n",
    "        y = y + sigma_0*B[k]\n",
    "        \n",
    "        # построение нового коплана\n",
    "        delta = y.dot(A) - c # y + sigma_0 * nu\n",
    "        j_b = (np.abs(delta) < 1e-8)"
   ]
  },
  {
   "cell_type": "markdown",
   "metadata": {},
   "source": [
    "## Variant 0.1"
   ]
  },
  {
   "cell_type": "code",
   "execution_count": 3,
   "metadata": {
    "collapsed": false
   },
   "outputs": [
    {
     "data": {
      "text/plain": [
       "array([ 0.  ,  2.67,  0.  ,  0.  ,  0.33,  0.  ,  0.  ,  0.33])"
      ]
     },
     "execution_count": 3,
     "metadata": {},
     "output_type": "execute_result"
    }
   ],
   "source": [
    "A = np.array([\n",
    "    [-2, -1, 1, -7, 0, 0, 0, 2],\n",
    "    [4, 2, 1, 0, 1, 5, -1, -5],\n",
    "    [1, 1, 0, -1, 0, 3, -1, 1]\n",
    "])\n",
    "\n",
    "c = np.array([2, 2, 1, -10, 1, 4, -2, -3])\n",
    "b = np.array([-2, 4, 3], dtype=np.float)\n",
    "y_0 = np.array([1, 1, 1])\n",
    "j_b = np.array([False, True, False, False, True, False, True, False])\n",
    "\n",
    "dual_simplex(A, b, c, y_0, j_b).round(2)"
   ]
  },
  {
   "cell_type": "markdown",
   "metadata": {
    "collapsed": true
   },
   "source": [
    "## Variant 0.2 ! b[3] = -b[3] (minus)"
   ]
  },
  {
   "cell_type": "code",
   "execution_count": 4,
   "metadata": {
    "collapsed": false,
    "scrolled": true
   },
   "outputs": [
    {
     "name": "stdout",
     "output_type": "stream",
     "text": [
      "Incompatible constraints\n"
     ]
    }
   ],
   "source": [
    "A = np.array([\n",
    "    [-2, -1, 1, -7, 0, 0, 0, 2],\n",
    "    [4, 2, 1, 0, 1, 5, -1, -5],\n",
    "    [1, 1, 0, 1, 0, 3, 1, 1]\n",
    "])\n",
    "\n",
    "c = np.array([2, 2, 1, -10, 1, 4, 0, -3])\n",
    "b = np.array([-2, 4, -3], dtype=np.float)\n",
    "y_0 = np.array([1, 1, 1])\n",
    "j_b = np.array([False, True, False, False, True, False, True, False])\n",
    "\n",
    "try:\n",
    "    dual_simplex(A, b, c, y_0, j_b).round(2)\n",
    "except:\n",
    "    print('Incompatible constraints')"
   ]
  },
  {
   "cell_type": "markdown",
   "metadata": {},
   "source": [
    "## Variant 1"
   ]
  },
  {
   "cell_type": "code",
   "execution_count": 5,
   "metadata": {
    "collapsed": false,
    "scrolled": true
   },
   "outputs": [
    {
     "data": {
      "text/plain": [
       "array([ 0. ,  0. ,  0. ,  0.4,  0. ,  0. ,  2. ,  0.4])"
      ]
     },
     "execution_count": 5,
     "metadata": {},
     "output_type": "execute_result"
    }
   ],
   "source": [
    "A = np.array([\n",
    "    [-2, -1, 1, -7, 0, 0, 0, 2],\n",
    "    [4, 2, 1, 0, 1, 5, -1, -5],\n",
    "    [1, 1, 0, -1, 0, 3, -1, 1]\n",
    "])\n",
    "\n",
    "c = np.array([5, 2, 3, -16, 1, 3, -3, -12], dtype=np.float)\n",
    "b = np.array([-2, -4, -2], dtype=np.float)\n",
    "y_0 = np.array([1, 2, -1])\n",
    "j_b = np.array([True, True, True, False, False, False, False, False])\n",
    "\n",
    "dual_simplex(A, b, c, y_0, j_b).round(2)"
   ]
  },
  {
   "cell_type": "markdown",
   "metadata": {},
   "source": [
    "## Varian 2"
   ]
  },
  {
   "cell_type": "code",
   "execution_count": 6,
   "metadata": {
    "collapsed": false,
    "scrolled": true
   },
   "outputs": [
    {
     "data": {
      "text/plain": [
       "array([ 0.,  0.,  5.,  1.,  0.,  0.,  1.,  0.])"
      ]
     },
     "execution_count": 6,
     "metadata": {},
     "output_type": "execute_result"
    }
   ],
   "source": [
    "A = np.array([\n",
    "    [-2, -1, 1, -7, 1, 0, 0, 2],\n",
    "    [-4, 2, 1, 0, 5, 1, -1, 5],\n",
    "    [1, 1, 0, -1, 0, 3, -1, 1]\n",
    "])\n",
    "\n",
    "c = np.array([-12, 2, 2, -6, 10, -1, -9, 8])\n",
    "b = np.array([-2, 4, -2], dtype=np.float)\n",
    "y_0 = np.array([1, 2, -1])\n",
    "j_b = np.array([False, True, False, True, False, True, False, False])\n",
    "\n",
    "dual_simplex(A, b, c, y_0, j_b).round(2)"
   ]
  },
  {
   "cell_type": "markdown",
   "metadata": {
    "collapsed": true
   },
   "source": [
    "## Variant 3"
   ]
  },
  {
   "cell_type": "code",
   "execution_count": 7,
   "metadata": {
    "collapsed": false
   },
   "outputs": [
    {
     "name": "stdout",
     "output_type": "stream",
     "text": [
      "Incompatible constraints\n"
     ]
    }
   ],
   "source": [
    "A = np.array([\n",
    "    [-2, -1, 1, -7, 1, 0, 0, 2],\n",
    "    [-4, 2, 1, 0, 5, 1, -1, 5],\n",
    "    [1, 1, 0, 1, 4, 3, 1, 1]\n",
    "])\n",
    "\n",
    "c = np.array([12, -2, -6, 20, -18, -5, -7, -20])\n",
    "b = np.array([-2, 8, -2], dtype=np.float)\n",
    "y_0 = np.array([-3, -2, -1])\n",
    "j_b = np.array([False, True, False, True, False, True, False, False])\n",
    "\n",
    "try:\n",
    "    dual_simplex(A, b, c, y_0, j_b).round(2)\n",
    "except:\n",
    "    print('Incompatible constraints')"
   ]
  },
  {
   "cell_type": "markdown",
   "metadata": {},
   "source": [
    "## Variant 4"
   ]
  },
  {
   "cell_type": "code",
   "execution_count": 8,
   "metadata": {
    "collapsed": false,
    "scrolled": false
   },
   "outputs": [
    {
     "data": {
      "text/plain": [
       "array([ 1.35,  0.2 ,  0.  ,  0.  ,  0.  ,  0.  ,  0.  ,  0.45])"
      ]
     },
     "execution_count": 8,
     "metadata": {},
     "output_type": "execute_result"
    }
   ],
   "source": [
    "A = np.array([\n",
    "    [-2, -1, 10, -7, 1, 0, 0, 2],\n",
    "    [-4, 2, 3, 0, 5, 1, -1, 0],\n",
    "    [1, 1, 0, 1, -4, 3, -1, 1]\n",
    "])\n",
    "\n",
    "c = np.array([10, -2, -38, 16, -9, -9, -5, -7])\n",
    "b = np.array([-2, -5, 2], dtype=np.float)\n",
    "y_0 = np.array([-3, -2, -1])\n",
    "j_b = np.array([False, True, False, False, True, False, False, True])\n",
    "\n",
    "dual_simplex(A, b, c, y_0, j_b).round(2)"
   ]
  },
  {
   "cell_type": "markdown",
   "metadata": {},
   "source": [
    "## Variant 5"
   ]
  },
  {
   "cell_type": "code",
   "execution_count": 9,
   "metadata": {
    "collapsed": false
   },
   "outputs": [
    {
     "data": {
      "text/plain": [
       "array([ 0.  ,  0.  ,  0.26,  0.17,  0.54,  0.  ,  0.  ,  0.  ])"
      ]
     },
     "execution_count": 9,
     "metadata": {},
     "output_type": "execute_result"
    }
   ],
   "source": [
    "A = np.array([\n",
    "    [3, -1, 10, -7, 1, 0, 0, 2],\n",
    "    [7, -2, 14, 8, 0, 12, -11, 0],\n",
    "    [1, 1, 0, 1, -4, 3, -1, 1]\n",
    "])\n",
    "\n",
    "c = np.array([36, -12, 66, 76, -5, 77, -76, -7])\n",
    "b = np.array([2, 5, -2], dtype=np.float)\n",
    "y_0 = np.array([-3, 7, -1])\n",
    "j_b = np.array([False, False, False, True, False, False, True, True])\n",
    "\n",
    "dual_simplex(A, b, c, y_0, j_b).round(2)"
   ]
  },
  {
   "cell_type": "code",
   "execution_count": 10,
   "metadata": {
    "collapsed": false
   },
   "outputs": [
    {
     "data": {
      "text/plain": [
       "array([ 0.25,  0.5 ,  0.  ,  0.  ,  0.  ])"
      ]
     },
     "execution_count": 10,
     "metadata": {},
     "output_type": "execute_result"
    }
   ],
   "source": [
    "A = np.array([\n",
    "    [-2, -1, -4, 1, 0],\n",
    "    [-2, -2, -2, 0, 1]\n",
    "])\n",
    "\n",
    "c = np.array([-4, -3, -7, 0, 0])\n",
    "b = np.array([-1, -1.5], dtype=np.float)\n",
    "y_0 = np.array([0, 0])\n",
    "j_b = np.array([False, False, False, True, True])\n",
    "\n",
    "dual_simplex(A, b, c, y_0, j_b).round(2)"
   ]
  }
 ],
 "metadata": {
  "kernelspec": {
   "display_name": "Python 3",
   "language": "python",
   "name": "python3"
  },
  "language_info": {
   "codemirror_mode": {
    "name": "ipython",
    "version": 3
   },
   "file_extension": ".py",
   "mimetype": "text/x-python",
   "name": "python",
   "nbconvert_exporter": "python",
   "pygments_lexer": "ipython3",
   "version": "3.5.1"
  }
 },
 "nbformat": 4,
 "nbformat_minor": 0
}
