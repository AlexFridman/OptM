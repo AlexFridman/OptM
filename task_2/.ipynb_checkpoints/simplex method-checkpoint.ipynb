{
 "cells": [
  {
   "cell_type": "code",
   "execution_count": 1,
   "metadata": {
    "collapsed": true
   },
   "outputs": [],
   "source": [
    "import numpy as np"
   ]
  },
  {
   "cell_type": "code",
   "execution_count": 2,
   "metadata": {
    "collapsed": false
   },
   "outputs": [],
   "source": [
    "def simplex(x, A, b, c, j_b):\n",
    "    m, n = A.shape\n",
    "    while True:\n",
    "        A_b, c_b = A[: , j_b], c[j_b]\n",
    "        B = np.linalg.inv(A_b)\n",
    "        u = c_b.dot(B)# calc capacity vector\n",
    "        e = u.dot(A) - c.T# calc estimates\n",
    "\n",
    "        if np.all(e[j_b == False] >= 0):\n",
    "            return x, j_b\n",
    "\n",
    "        j_0 = np.argwhere((e < 0) & (j_b == False)).min()\n",
    "\n",
    "        z = B.dot(A[: , j_0])\n",
    "\n",
    "        if np.all(z[: m] <= 0):\n",
    "            raise Exception('There is no solution.')\n",
    "\n",
    "        theta = np.array([x[j] / z[i]\n",
    "            if z[i] > 0\n",
    "            else np.infty\n",
    "            for i, j in zip(range(m), np.argwhere(j_b))\n",
    "        ])\n",
    "\n",
    "        theta_0, s = theta.min(), theta.argmin()\n",
    "        j_s = np.argwhere(j_b).ravel()[s]\n",
    "\n",
    "        # update plan\n",
    "        mask = (j_b == False)\n",
    "        mask[j_0] = False\n",
    "        x[mask] = 0\n",
    "        x[j_0] = theta_0\n",
    "        x[j_b] = x[j_b] - theta_0 * z\n",
    "\n",
    "        # update basis\n",
    "        j_b[j_s] = False\n",
    "        j_b[j_0] = True"
   ]
  },
  {
   "cell_type": "code",
   "execution_count": 3,
   "metadata": {
    "collapsed": true
   },
   "outputs": [],
   "source": [
    "def inv_helper(A_inv, new_col, j):\n",
    "    m, _ = A_inv.shape\n",
    "    l = A_inv.dot(new_col)\n",
    "    l_hat = l.copy(); l_hat[j] = -1\n",
    "    q = (-1/l[j]) * l_hat\n",
    "    Q = np.identity(m); Q[:,j] = q\n",
    "    return Q.dot(A_inv)\n",
    "\n",
    "def simplex_plus(x, A, b, c, j_b):\n",
    "    m, n = A.shape\n",
    "    B = None\n",
    "    j_0 = None\n",
    "    while True:\n",
    "        A_b, c_b = A[: , j_b], c[j_b]\n",
    "        if B is None:\n",
    "            B = np.linalg.inv(A_b)\n",
    "        else:\n",
    "            j_b_idxs = np.argwhere(j_b).ravel()\n",
    "            i = np.argwhere(j_b_idxs == j_0).ravel()[0]\n",
    "            B = inv_helper(B, A_b[:, i], i)\n",
    "        u = c_b.dot(B)# calc capacity vector\n",
    "        e = u.dot(A) - c.T# calc estimates\n",
    "\n",
    "        if np.all(e[j_b == False] >= 0):\n",
    "            return x, j_b\n",
    "\n",
    "        j_0 = np.argwhere((e < 0) & (j_b == False)).min()\n",
    "\n",
    "        z = B.dot(A[: , j_0])\n",
    "\n",
    "        if np.all(z[: m] <= 0):\n",
    "            raise Exception('There is no solution.')\n",
    "\n",
    "        theta = np.array([x[j] / z[i]\n",
    "            if z[i] > 0\n",
    "            else np.infty\n",
    "            for i, j in zip(range(m), np.argwhere(j_b))\n",
    "        ])\n",
    "\n",
    "        theta_0, s = theta.min(), theta.argmin()\n",
    "        j_s = np.argwhere(j_b).ravel()[s]\n",
    "\n",
    "        # update plan\n",
    "        mask = (j_b == False)\n",
    "        mask[j_0] = False\n",
    "        x[mask] = 0\n",
    "        x[j_0] = theta_0\n",
    "        x[j_b] = x[j_b] - theta_0 * z\n",
    "\n",
    "        # update basis\n",
    "        j_b[j_s] = False\n",
    "        j_b[j_0] = True"
   ]
  },
  {
   "cell_type": "markdown",
   "metadata": {},
   "source": [
    "## Variant 0.1"
   ]
  },
  {
   "cell_type": "code",
   "execution_count": 4,
   "metadata": {
    "collapsed": false,
    "scrolled": true
   },
   "outputs": [
    {
     "name": "stdout",
     "output_type": "stream",
     "text": [
      "[ 10.     0.     2.2    0.     2.6    0.93   0.     0.  ]\n",
      "[ 10.     0.     2.2    0.     2.6    0.93   0.     0.  ]\n"
     ]
    }
   ],
   "source": [
    "A = np.array([\n",
    "    [0, 1, 4, 1, 0, -3, 5, 0],\n",
    "    [1, -1, 0, 1, 0, 0, 1, 0],\n",
    "    [0, 7, -1, 0, -1, 3, 8, 0],\n",
    "    [1, 1, 1, 1, 0, 3, -3, 1]\n",
    "])\n",
    "\n",
    "c = np.array([-5, -2, 3, -4, -6, 0, -1, -5])\n",
    "b = np.array([6, 10, -2, 15])\n",
    "x = np.array([4, 0, 0, 6, 2, 0, 0, 5], dtype = np.float)\n",
    "j_b = x != 0\n",
    "\n",
    "x, j_b = simplex_plus(x, A, b, c, j_b)\n",
    "print(x.round(2))\n",
    "x, j_b = simplex(x, A, b, c, j_b)\n",
    "print(x.round(2))"
   ]
  },
  {
   "cell_type": "markdown",
   "metadata": {},
   "source": [
    "## Variant 0.2"
   ]
  },
  {
   "cell_type": "code",
   "execution_count": 5,
   "metadata": {
    "collapsed": false
   },
   "outputs": [
    {
     "name": "stdout",
     "output_type": "stream",
     "text": [
      "No solution\n"
     ]
    }
   ],
   "source": [
    "A = np.array([\n",
    "    [0, 1, 4, 1, 0, -3, 1, 0],\n",
    "    [1, -1, 0, 1, 0, 0, 0, 0],\n",
    "    [0, 7, -1, 0, -1, 3, -1, 0],\n",
    "    [1, 1, 1, 1, 0, 3, -1, 1]\n",
    "])\n",
    "\n",
    "c = np.array([-5, -2, 3, -4, -6, 0, 1, -5])\n",
    "b = np.array([6, 10, -2, 15])\n",
    "x = np.array([10, 0, 1.5, 0, 0.5, 0, 0, 3.5],\n",
    "    dtype = np.float)\n",
    "j_b = np.array([True, False, True, False, True,\n",
    "    False, False, True\n",
    "])\n",
    "\n",
    "try:\n",
    "    simplex(x, A, b, c, j_b)\n",
    "except:\n",
    "    print('No solution')"
   ]
  },
  {
   "cell_type": "markdown",
   "metadata": {},
   "source": [
    "## Variant 1"
   ]
  },
  {
   "cell_type": "code",
   "execution_count": 6,
   "metadata": {
    "collapsed": false,
    "scrolled": true
   },
   "outputs": [
    {
     "data": {
      "text/plain": [
       "array([ 0.  ,  9.5 ,  5.33,  1.5 ,  0.  ,  0.  ,  3.67,  0.  ])"
      ]
     },
     "execution_count": 6,
     "metadata": {},
     "output_type": "execute_result"
    }
   ],
   "source": [
    "A = np.array([\n",
    "    [0, 1, 4, 1, 0, -8, 1, 5],\n",
    "    [0, -1, 0, -1, 0, 0, 0, 0],\n",
    "    [0, 2, -1, 0, -1, 3, -1, 0],\n",
    "    [1, 1, 1, 1, 0, 3, 1, 1]\n",
    "])\n",
    "\n",
    "c = np.array([-5, 2, 3, -4, -6, 0, 1, -5])\n",
    "b = np.array([36, -11, 10, 20])\n",
    "x = np.array([4, 5, 0, 6, 0, 0, 0, 5], dtype = np.float)\n",
    "j_b = x != 0\n",
    "\n",
    "\n",
    "x, j_b = simplex(x, A, b, c, j_b)\n",
    "x.round(2)"
   ]
  },
  {
   "cell_type": "markdown",
   "metadata": {},
   "source": [
    "## Variant 2"
   ]
  },
  {
   "cell_type": "code",
   "execution_count": 7,
   "metadata": {
    "collapsed": false
   },
   "outputs": [
    {
     "data": {
      "text/plain": [
       "array([ 0.  ,  0.  ,  0.  ,  7.06,  0.  ,  1.8 ,  2.58,  3.96])"
      ]
     },
     "execution_count": 7,
     "metadata": {},
     "output_type": "execute_result"
    }
   ],
   "source": [
    "A = np.array([\n",
    "    [0, 1, 1, 1, 0, -8, 1, 5],\n",
    "    [0, -1, 0, -7.5, 0, 0, 0, 2],\n",
    "    [0, 2, 1, 0, -1, 3, -1.4, 0],\n",
    "    [1, 1, 1, 1, 0, 3, 1, 1]\n",
    "], dtype=np.float)\n",
    "\n",
    "c = np.array([-6, -9, -5, 2, -6, 0, 1, 3], dtype=np.float)\n",
    "b = np.array([15, -45, 1.8, 19], dtype=np.float)\n",
    "x = np.array([4, 0, 6, 6, 0, 0, 3, 0], dtype = np.float)\n",
    "j_b = np.array([True, False, True, True, False, False, True, False])\n",
    "\n",
    "x, j_b = simplex(x, A, b, c, j_b)\n",
    "x.round(2)"
   ]
  },
  {
   "cell_type": "markdown",
   "metadata": {},
   "source": [
    "## Variant 3"
   ]
  },
  {
   "cell_type": "code",
   "execution_count": 8,
   "metadata": {
    "collapsed": false
   },
   "outputs": [
    {
     "data": {
      "text/plain": [
       "array([  0.  ,   0.75,   0.  ,   2.68,   0.  ,   0.  ,   0.  ,  13.43])"
      ]
     },
     "execution_count": 8,
     "metadata": {},
     "output_type": "execute_result"
    }
   ],
   "source": [
    "A = np.array([\n",
    "    [0, -1, 1, -7.5, 0, 0, 0, 2],\n",
    "    [0, 2, 1, 0, -1, 3, -1.5, 0],\n",
    "    [1, -1, 1, -1, 0, 3, 1, 1]\n",
    "], dtype=np.float)\n",
    "\n",
    "c = np.array([-6, -9, -5, 2, -6, 0, 1, 3], dtype=np.float)\n",
    "b = np.array([6, 1.5, 10], dtype=np.float)\n",
    "x = np.array([4, 0, 6, 0, 4.5, 0, 0, 0], dtype = np.float)\n",
    "j_b = np.array([True, False, True, False, True, False, False, False])\n",
    "\n",
    "x, j_b = simplex(x, A, b, c, j_b)\n",
    "x.round(2)"
   ]
  },
  {
   "cell_type": "markdown",
   "metadata": {},
   "source": [
    "## Variant 4 Ax!=b"
   ]
  },
  {
   "cell_type": "code",
   "execution_count": 9,
   "metadata": {
    "collapsed": false
   },
   "outputs": [
    {
     "data": {
      "text/plain": [
       "False"
      ]
     },
     "execution_count": 9,
     "metadata": {},
     "output_type": "execute_result"
    }
   ],
   "source": [
    "A = np.array([\n",
    "    [2, -1, 1, -7.5, 0, 0, 0, 2],\n",
    "    [4, 2, -1, 0, 1, 5, -1, -4],\n",
    "    [1, -1, 1, -1, 0, 3, 1, 1]\n",
    "], dtype=np.float)\n",
    "\n",
    "c = np.array([-6, -9, -5, 2, -6, 0, 1, 3], dtype=np.float)\n",
    "b = np.array([-2, 14, 10], dtype=np.float)\n",
    "x = np.array([4, 0, 6, 0, 4, 0, 0, 0], dtype = np.float)\n",
    "j_b = np.array([True, False, True, False, True, False, False, False])\n",
    "\n",
    "np.all(A.dot(x) == b)\n",
    "#simplex(x, A, b, c, j_b).round(2)"
   ]
  },
  {
   "cell_type": "markdown",
   "metadata": {},
   "source": [
    "## Variant 5"
   ]
  },
  {
   "cell_type": "code",
   "execution_count": 10,
   "metadata": {
    "collapsed": false
   },
   "outputs": [
    {
     "name": "stdout",
     "output_type": "stream",
     "text": [
      "No solution\n"
     ]
    }
   ],
   "source": [
    "A = np.array([\n",
    "    [-2, -1, 3, -7.5, 0, 0, 0, 2],\n",
    "    [4, 2, -6, 0, 1, 5, -1, -4],\n",
    "    [1, -1, 0, -1, 0, 3, 1, 1]\n",
    "])\n",
    "\n",
    "c = np.array([-6, 9, -5, 2, -6, 0, 1, 3])\n",
    "b = np.array([-23.5, -24, 2])\n",
    "x = np.array([0, 0, 0, 5, 4, 0, 0, 7], dtype = np.float)\n",
    "j_b = np.array([False, False, False, True, True, False, False, True])\n",
    "\n",
    "try:\n",
    "    simplex(x, A, b, c, j_b)\n",
    "except:\n",
    "    print('No solution')"
   ]
  },
  {
   "cell_type": "markdown",
   "metadata": {},
   "source": [
    "## Variant 6 Ax!=b"
   ]
  },
  {
   "cell_type": "code",
   "execution_count": 11,
   "metadata": {
    "collapsed": false,
    "scrolled": false
   },
   "outputs": [
    {
     "data": {
      "text/plain": [
       "False"
      ]
     },
     "execution_count": 11,
     "metadata": {},
     "output_type": "execute_result"
    }
   ],
   "source": [
    "A = np.array([\n",
    "    [-2, -1, 1, -7, 0, 0, 0, 2],\n",
    "    [4, 2, -1, 0, 1, 5, -1, -5],\n",
    "    [1, 11, 0, 1, 0, 3, 1, 1]\n",
    "], dtype = np.float)\n",
    "\n",
    "\n",
    "c = np.array([6, -9, 5, -2, 6, 0, -1, 3], dtype = np.float)\n",
    "b = np.array([14, -31, 7], dtype = np.float)\n",
    "x = np.array([4, 0, 6, 0, 4, 0, 0, 0], dtype = np.float)\n",
    "j_b = np.array([False, False, False, True, True, False, False, True])\n",
    "\n",
    "\n",
    "np.all(A.dot(x) == b)\n",
    "#simplex(x, A, b, c, j_b).round(2)"
   ]
  },
  {
   "cell_type": "markdown",
   "metadata": {},
   "source": [
    "## Variant 7"
   ]
  },
  {
   "cell_type": "code",
   "execution_count": 12,
   "metadata": {
    "collapsed": false
   },
   "outputs": [
    {
     "data": {
      "text/plain": [
       "array([ 7., -1.,  0.])"
      ]
     },
     "execution_count": 12,
     "metadata": {},
     "output_type": "execute_result"
    }
   ],
   "source": [
    "A = np.array([\n",
    "    [1, 3, 1],\n",
    "    [0, 2, 1]\n",
    "], dtype = np.float)\n",
    "\n",
    "\n",
    "c = np.array([1, 2, 0], dtype = np.float)\n",
    "b = np.array([4, 2], dtype = np.float)\n",
    "x = np.array([7, -1, 0], dtype = np.float)\n",
    "j_b = np.array([True, True, False])\n",
    "\n",
    "\n",
    "\n",
    "x, j_b = simplex(x, A, b, c, j_b)\n",
    "x.round(2)"
   ]
  },
  {
   "cell_type": "code",
   "execution_count": 13,
   "metadata": {
    "collapsed": false
   },
   "outputs": [
    {
     "data": {
      "text/plain": [
       "array([ 7., -1.,  0.])"
      ]
     },
     "execution_count": 13,
     "metadata": {},
     "output_type": "execute_result"
    }
   ],
   "source": [
    "A = np.array([\n",
    "    [1, 3, 1],\n",
    "    [0, 2, 1]\n",
    "], dtype = np.float)\n",
    "\n",
    "\n",
    "c = np.array([1, 2, 0], dtype = np.float)\n",
    "b = np.array([4, 2], dtype = np.float)\n",
    "x = np.array([7, -1, 0], dtype = np.float)\n",
    "j_b = np.array([True, True, False])\n",
    "\n",
    "\n",
    "\n",
    "x, j_b = simplex(x, A, b, c, j_b)\n",
    "x.round(2)"
   ]
  }
 ],
 "metadata": {
  "kernelspec": {
   "display_name": "Python 3",
   "language": "python",
   "name": "python3"
  },
  "language_info": {
   "codemirror_mode": {
    "name": "ipython",
    "version": 3
   },
   "file_extension": ".py",
   "mimetype": "text/x-python",
   "name": "python",
   "nbconvert_exporter": "python",
   "pygments_lexer": "ipython3",
   "version": "3.5.1"
  }
 },
 "nbformat": 4,
 "nbformat_minor": 0
}
