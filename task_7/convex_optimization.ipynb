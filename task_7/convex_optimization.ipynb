{
 "cells": [
  {
   "cell_type": "code",
   "execution_count": 1,
   "metadata": {
    "collapsed": true
   },
   "outputs": [],
   "source": [
    "import numpy as np\n",
    "from scipy.optimize import linprog"
   ]
  },
  {
   "cell_type": "code",
   "execution_count": 2,
   "metadata": {
    "collapsed": false
   },
   "outputs": [],
   "source": [
    "def optimize_convex(c, D, c_G, D_G, alpha_G, x_hat, x_wave):\n",
    "    n, *_ = c.shape\n",
    "    \n",
    "    # условие Слейтер\n",
    "    if not np.any(c_G.dot(x_wave) +\\\n",
    "                  0.5 * x_wave.dot(D_G).dot(x_wave) + alpha_G >= 0):\n",
    "        raise Exception('Incopatible constraints')\n",
    "\n",
    "    def F(x):\n",
    "        return c.dot(x) + 0.5 * x.dot(D).dot(x)\n",
    "\n",
    "    def f_grad(x):\n",
    "        return c + D.dot(x)\n",
    "\n",
    "    # построение целевой функции для ЗЛП \n",
    "    fx_wave_grad = f_grad(x_wave)\n",
    "    active_idxs = np.argwhere(c_G.dot(x_wave) + 0.5 * x_wave.dot(D_G).dot(x_wave) + alpha_G == 0).ravel()\n",
    "\n",
    "    # построение ограничий\n",
    "    A = c_G[active_idxs] + D_G[active_idxs].dot(x_wave)\n",
    "    b = np.zeros(len(active_idxs))\n",
    "    bounds = np.vstack((np.where(x_wave == 0, 0, None), np.ones(n))).T\n",
    "    \n",
    "    res = linprog(fx_wave_grad, A_ub=A, b_ub=b, bounds=bounds)\n",
    "    l_star = res['x']\n",
    "\n",
    "    # нахождение alpha\n",
    "    a = f_grad(x_wave).dot(l_star)\n",
    "    b = (x_hat - x_wave).dot(f_grad(x_wave))\n",
    "    \n",
    "    if b > 0:\n",
    "        alpha = -a/(2*b)\n",
    "    else:\n",
    "        alpha = 1\n",
    "\n",
    "    def x(t):\n",
    "        return x_wave + t*(l_star + alpha * (x_hat - x_wave))\n",
    "\n",
    "    def find_t():\n",
    "        F_wave = F(x_wave)\n",
    "        t = 1\n",
    "        while not (F(x(t)) < F_wave and np.all(c_G.dot(x(t)) + 0.5 * x(t).dot(D_G).dot(x(t)) + alpha_G <= 0)):\n",
    "            t /= 2\n",
    "        return t\n",
    "\n",
    "    return x(find_t())"
   ]
  },
  {
   "cell_type": "markdown",
   "metadata": {},
   "source": [
    "## Пример"
   ]
  },
  {
   "cell_type": "code",
   "execution_count": 3,
   "metadata": {
    "collapsed": false
   },
   "outputs": [
    {
     "data": {
      "text/plain": [
       "array([ 0.5   ,  0.5625])"
      ]
     },
     "execution_count": 3,
     "metadata": {},
     "output_type": "execute_result"
    }
   ],
   "source": [
    "c = np.array([-3, -3])\n",
    "D = np.array([\n",
    "    [2, 1],\n",
    "    [1, 2]\n",
    "])\n",
    "\n",
    "######### G ########\n",
    "c_G = np.array([\n",
    "    [1, -1],\n",
    "    [-1, 1]\n",
    "])\n",
    "D_G = np.array([\n",
    "    [[1, 0], [0, 1]],\n",
    "    [[1, .5], [.5, 1]]\n",
    "])\n",
    "alpha_G = np.array([-1, -1.5])\n",
    "\n",
    "x_hat = np.array([0, 0])\n",
    "x_wave = np.array([0, 1])\n",
    "\n",
    "optimize_convex(c, D, c_G, D_G, alpha_G, x_hat, x_wave)"
   ]
  }
 ],
 "metadata": {
  "kernelspec": {
   "display_name": "Python 3",
   "language": "python",
   "name": "python3"
  },
  "language_info": {
   "codemirror_mode": {
    "name": "ipython",
    "version": 3
   },
   "file_extension": ".py",
   "mimetype": "text/x-python",
   "name": "python",
   "nbconvert_exporter": "python",
   "pygments_lexer": "ipython3",
   "version": "3.5.1"
  }
 },
 "nbformat": 4,
 "nbformat_minor": 0
}
