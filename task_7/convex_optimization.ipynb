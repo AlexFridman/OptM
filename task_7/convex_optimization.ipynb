{
 "cells": [
  {
   "cell_type": "code",
   "execution_count": 1,
   "metadata": {
    "collapsed": true
   },
   "outputs": [],
   "source": [
    "import numpy as np\n",
    "from scipy.optimize import linprog"
   ]
  },
  {
   "cell_type": "code",
   "execution_count": 5,
   "metadata": {
    "collapsed": false
   },
   "outputs": [],
   "source": [
    "def optimize_convex(c, D, c_G, D_G, alpha_G, x_hat, x_wave):\n",
    "    n, *_ = c.shape\n",
    "    # slaiter's condition\n",
    "    if not np.any(c_G.dot(x_wave) +\\\n",
    "                  0.5 * x_wave.dot(D_G).dot(x_wave) + alpha_G >= 0):\n",
    "        raise Exception('Incopatible constraints')\n",
    "\n",
    "    def F(x):\n",
    "        return c.dot(x) + 0.5 * x.dot(D).dot(x)\n",
    "\n",
    "    def f_grad(x):\n",
    "        return c + D.dot(x)\n",
    "\n",
    "    fx_wave_grad = f_grad(x_wave)\n",
    "    active_idxs = np.argwhere(c_G.dot(x_wave) + 0.5 * x_wave.dot(D_G).dot(x_wave) + alpha_G == 0).ravel()\n",
    "\n",
    "    A = c_G[active_idxs] + D_G[active_idxs].dot(x_wave)\n",
    "    b = np.zeros(len(active_idxs))\n",
    "    l_bounds = np.vstack((np.where(x_wave == 0, 0, None), np.ones(n))).T\n",
    "    \n",
    "    res = linprog(fx_wave_grad, A_ub=A, b_ub=b, bounds=l_bounds)\n",
    "    l_star = res['x']\n",
    "\n",
    "    # determine alpha\n",
    "    a = f_grad(x_wave).dot(l_star)\n",
    "    b = (x_hat - x_wave).dot(f_grad(x_wave))\n",
    "    \n",
    "    if b > 0:\n",
    "        alpha = -a/(2*b)\n",
    "    else:\n",
    "        alpha = 1\n",
    "\n",
    "    def x(t):\n",
    "        return x_wave + t*(l_star + alpha * (x_hat - x_wave))\n",
    "\n",
    "    def find_t():\n",
    "        F_wave = F(x_wave)\n",
    "        t = 1\n",
    "        while not (F(x(t)) < F_wave and np.all(c_G.dot(x(t)) + 0.5 * x(t).dot(D_G).dot(x(t)) + alpha_G <= 0)):\n",
    "            t /= 2\n",
    "        return t\n",
    "\n",
    "    return x(find_t())"
   ]
  },
  {
   "cell_type": "markdown",
   "metadata": {},
   "source": [
    "## Пример 0"
   ]
  },
  {
   "cell_type": "code",
   "execution_count": 6,
   "metadata": {
    "collapsed": false
   },
   "outputs": [
    {
     "data": {
      "text/plain": [
       "array([ 0.5   ,  0.5625])"
      ]
     },
     "execution_count": 6,
     "metadata": {},
     "output_type": "execute_result"
    }
   ],
   "source": [
    "c = np.array([-3, -3])\n",
    "D = np.array([\n",
    "    [2, 1],\n",
    "    [1, 2]\n",
    "])\n",
    "\n",
    "######### G ########\n",
    "c_G = np.array([\n",
    "    [1, -1],\n",
    "    [-1, 1]\n",
    "])\n",
    "D_G = np.array([\n",
    "    [[1, 0], [0, 1]],\n",
    "    [[1, .5], [.5, 1]]\n",
    "])\n",
    "alpha_G = np.array([-1, -1.5])\n",
    "\n",
    "x_hat = np.array([0, 0])\n",
    "x_wave = np.array([0, 1])\n",
    "\n",
    "optimize_convex(c, D, c_G, D_G, alpha_G, x_hat, x_wave)"
   ]
  },
  {
   "cell_type": "markdown",
   "metadata": {},
   "source": [
    "## Пример 1"
   ]
  },
  {
   "cell_type": "code",
   "execution_count": 7,
   "metadata": {
    "collapsed": false
   },
   "outputs": [
    {
     "name": "stdout",
     "output_type": "stream",
     "text": [
      "[ 0.  0.  0.  0.  0.  0.  0.  0.]\n"
     ]
    }
   ],
   "source": [
    "c = np.array([-1, -1, -1, -1, -2, 0, -2, -3])\n",
    "B_0 = np.array([\n",
    "    [2, 1, 0, 4, 0, 3, 0, 0],\n",
    "    [0, 4, 0, 3, 1, 1, 3, 2],\n",
    "    [1, 3, 0, 5, 0, 4, 0, 4]\n",
    "])\n",
    "\n",
    "D = B_0.T.dot(B_0)\n",
    "\n",
    "######### G ########\n",
    "c_G = np.array([\n",
    "    [0, 60, 80, 0, 0, 0, 40, 0],\n",
    "    [2, 0, 3, 0, 2, 0, 3, 0],\n",
    "    [0, 0, 80, 0, 0, 0, 0, 0],\n",
    "    [0, -2, 1, 2, 0, 0, -2, 1],\n",
    "    [-4, -2, 6, 0, 4, -2, 60, 2]\n",
    "])\n",
    "B = np.array([\n",
    "    [\n",
    "        [0, 0, 0.5, 2.5, 1, 0, -2.5, -2],\n",
    "        [0.5, 0.5, -0.5, 0, 0.5, -0.5, -0.5, -0.5],\n",
    "        [0.5, 0.5, 0.5, 0, 0.5, 1, 2.5, 4]\n",
    "    ],\n",
    "    [\n",
    "        [1, 2, -1.5, 3, -2.5, 0, -1, -0.5],\n",
    "        [-1.5, -0.5, -1, -2.5, 3.5, -3, -1.5, -0.5],\n",
    "        [1.5, 2.5, -1, 1, 2.5, 1.5, 3, 0, ]\n",
    "    ],\n",
    "    [\n",
    "        [0.75, 0.5, -1, 0.25, 0.25, 0, 0.25, 0.75],\n",
    "        [-1, 1, 4, 0.75, 0.75, 0.5, 7, -0.75],\n",
    "        [0.5, -0.25, 0.5, 0.75, 0.5, 1.25, -0.75, -0.25]\n",
    "    ],\n",
    "    [\n",
    "        [1.5, -1.5, -1.5, 2, 1.5, 0, 0.5, -1.5],\n",
    "        [-0.5, -2.5, -0.5, -5, -2.5, 3.5, 1, 2],\n",
    "        [-2.5, 1, -2, -1.5, -2.5, 0.5, 8.5, -2.5]\n",
    "    ],\n",
    "    [\n",
    "        [1, 0.25, -0.5, 1.25, 1.25, -0.5, 0.25, -0.75],\n",
    "        [-1., -0.75, -0.75, 0.5, -0.25, 1.25, 0.25, -0.5],\n",
    "        [0, 0.75, 0.5, -0.5, -1., 1., -1., 1]\n",
    "    ]\n",
    "])\n",
    "D_G = np.array([d.T.dot(d) for d in B])\n",
    "alpha_G = np.array([-687.1250, -666.6250, -349.5938, -254.6250, -45.1563])\n",
    "\n",
    "x_hat = np.array([0, 0, 0, 0, 0, 0, 0, 0])\n",
    "x_wave = np.array([0, 8, 2, 1, 0, 4, 0, 0])\n",
    "\n",
    "try:\n",
    "    print(optimize_convex(c, D, c_G, D_G, alpha_G, x_hat, x_wave))\n",
    "except:\n",
    "    print('already optim')"
   ]
  },
  {
   "cell_type": "code",
   "execution_count": 11,
   "metadata": {
    "collapsed": false
   },
   "outputs": [
    {
     "data": {
      "text/plain": [
       "array([  0.00000000e+00,  -1.00000000e+01,   7.81250000e-01,\n",
       "         7.71300000e+03,   0.00000000e+00])"
      ]
     },
     "execution_count": 11,
     "metadata": {},
     "output_type": "execute_result"
    }
   ],
   "source": [
    "c = np.array([-1, -1, -1, -1, -2, 0, -2, -3])\n",
    "B_0 = np.array([\n",
    "    [2, 1, 0, 4, 0, 3, 0, 0],\n",
    "    [0, 4, 0, 3, 1, 1, 3, 2],\n",
    "    [1, 3, 0, 5, 0, 4, 0, 4]\n",
    "])\n",
    "\n",
    "D = B_0.T.dot(B_0)\n",
    "\n",
    "c_G = np.array([\n",
    "    [0, 60, 80, 0, 0, 0, 40, 0],\n",
    "    [2, 0, 3, 0, 2, 0, 3, 0],\n",
    "    [0, 0, 80, 0, 0, 0, 0, 0],\n",
    "    [0, -2, 1, 2, 0, 0, -2, 1],\n",
    "    [-4, -2, 6, 0, 4, -2, 60, 2]\n",
    "])\n",
    "B = np.array([\n",
    "    [\n",
    "        [0, 0, 0.5, 2.5, 1, 0, -2.5, -2],\n",
    "        [0.5, 0.5, -0.5, 0, 0.5, -0.5, -0.5, -0.5],\n",
    "        [0.5, 0.5, 0.5, 0, 0.5, 1, 2.5, 4]\n",
    "    ],\n",
    "    [\n",
    "        [1, 2, -1.5, 3, -2.5, 0, -1, -0.5],\n",
    "        [-1.5, -0.5, -1, 2.5, 3.5, 3, -1.5, -0.5],\n",
    "        [1.5, 2.5, 1, 1, 2.5, 1.5, 3, 0]\n",
    "    ],\n",
    "    [\n",
    "        [0.75, 0.5, -1, 0.25, 0.25, 0, 0.25, 0.75],\n",
    "        [-1, 1, 1, 0.75, 0.75, 0.5, 1, -0.75],\n",
    "        [0.5, -0.25, 0.5, 0.75, 0.5, 1.25, -0.75, -0.25]\n",
    "    ],\n",
    "    [\n",
    "        [1.5, -1.5, -1.5, 2, 1.5, 0, 0.5, -1.5],\n",
    "        [-0.5, -2.5, -0.5, -1, -2.5, 2.5, 1, 2],\n",
    "        [-2.5, 1, -2, -1.5, -2.5, 0.5, 2.5, -2.5]\n",
    "    ],\n",
    "    [\n",
    "        [1, 0.25, -0.5, 1.25, 1.25, -0.5, 0.25, -0.75],\n",
    "        [-1, -0.75, -0.75, 0.5, -0.25, 1.25, 0.25, -0.5],\n",
    "        [0, 0.75, 0.5, -0.5, -1, 1, -1, 1]\n",
    "    ]\n",
    "])\n",
    "\n",
    "D_G = np.array([d.T.dot(d) for d in B])\n",
    "\n",
    "alpha_G = np.array([-51.75, -436.75, -33, 7813. - 303.3750, -41.75])\n",
    "\n",
    "x_hat = np.array([0, 0, 0, 0, 0, 0, 0, 0])\n",
    "x_wave = np.array([1, 0, 0, 2, 4, 2, 0, 0])\n",
    "\n",
    "c_G.dot(x_wave) + 0.5 * x_wave.dot(D_G).dot(x_wave) + alpha_G# print(optimize_convex(c, D, c_G, D_G, alpha_G, x_hat, x_wave))"
   ]
  },
  {
   "cell_type": "code",
   "execution_count": 22,
   "metadata": {
    "collapsed": false
   },
   "outputs": [
    {
     "data": {
      "text/plain": [
       "array([  0.00000000e+00,  -1.00000000e+01,   7.81250000e-01,\n",
       "         7.71300000e+03,   0.00000000e+00])"
      ]
     },
     "execution_count": 22,
     "metadata": {},
     "output_type": "execute_result"
    }
   ],
   "source": [
    "c_G.dot(x_wave) +0.5 * x_wave.dot(D_G).dot(x_wave) + alpha_G"
   ]
  },
  {
   "cell_type": "code",
   "execution_count": 23,
   "metadata": {
    "collapsed": false
   },
   "outputs": [
    {
     "data": {
      "text/plain": [
       "array([  0.00000000e+00,  -1.00000000e+01,   7.81250000e-01,\n",
       "         7.71300000e+03,   0.00000000e+00])"
      ]
     },
     "execution_count": 23,
     "metadata": {},
     "output_type": "execute_result"
    }
   ],
   "source": [
    "c_G.dot(x_wave) +0.5 * x_wave.dot(D_G).dot(x_wave) + alpha_G"
   ]
  },
  {
   "cell_type": "code",
   "execution_count": 24,
   "metadata": {
    "collapsed": false
   },
   "outputs": [
    {
     "data": {
      "text/plain": [
       "array([  51.75   ,  426.75   ,   33.78125,  203.375  ,   41.75   ])"
      ]
     },
     "execution_count": 24,
     "metadata": {},
     "output_type": "execute_result"
    }
   ],
   "source": [
    "c_G.dot(x_wave) +0.5 * x_wave.dot(D_G).dot(x_wave)"
   ]
  }
 ],
 "metadata": {
  "kernelspec": {
   "display_name": "Python 3",
   "language": "python",
   "name": "python3"
  },
  "language_info": {
   "codemirror_mode": {
    "name": "ipython",
    "version": 3
   },
   "file_extension": ".py",
   "mimetype": "text/x-python",
   "name": "python",
   "nbconvert_exporter": "python",
   "pygments_lexer": "ipython3",
   "version": "3.5.1"
  }
 },
 "nbformat": 4,
 "nbformat_minor": 0
}
