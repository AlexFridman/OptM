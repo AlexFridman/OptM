{
 "cells": [
  {
   "cell_type": "code",
   "execution_count": 1,
   "metadata": {
    "collapsed": true
   },
   "outputs": [],
   "source": [
    "import heapq\n",
    "from collections import defaultdict\n",
    "\n",
    "import numpy as np"
   ]
  },
  {
   "cell_type": "code",
   "execution_count": 2,
   "metadata": {
    "collapsed": true
   },
   "outputs": [],
   "source": [
    "def make_mask(X):\n",
    "    mask = np.full((X.shape), False, bool)\n",
    "    for i, j in np.argwhere(X):\n",
    "        mask[i, j] = True\n",
    "    return mask\n",
    "\n"
   ]
  },
  {
   "cell_type": "code",
   "execution_count": 3,
   "metadata": {
    "collapsed": true
   },
   "outputs": [],
   "source": [
    "def complete_base_plan(X, B):\n",
    "    n, m = X.shape\n",
    "    i = j = 0\n",
    "    while i < n - 1 and j < m - 1:\n",
    "        if X[i, j + 1]:\n",
    "            j += 1\n",
    "        elif X[i + 1, j]:\n",
    "            j += 1\n",
    "        else:\n",
    "            B[i + 1, j] = True\n",
    "            i, j = i + 1, j + 1\n",
    "\n",
    "    return B"
   ]
  },
  {
   "cell_type": "code",
   "execution_count": 4,
   "metadata": {
    "collapsed": true
   },
   "outputs": [],
   "source": [
    "def argwhere_min_delta(B, C, u, v):\n",
    "    d_min, i_min, j_min = np.infty, None, None\n",
    "    for i, j in np.argwhere(B == False):\n",
    "        d = C[i, j] - u[i] - v[j]\n",
    "        if d < d_min:\n",
    "            d_min, i_min, j_min = d, i, j\n",
    "    return d_min, (i_min, j_min)"
   ]
  },
  {
   "cell_type": "code",
   "execution_count": 5,
   "metadata": {
    "collapsed": true
   },
   "outputs": [],
   "source": [
    "def balance(C, c, w):\n",
    "    n, m = C.shape\n",
    "    diff = c.sum() - w.sum()\n",
    "    if diff > 0:\n",
    "        w = np.append(w, diff)\n",
    "        C = np.vstack((C, np.zeros((1, m))))\n",
    "    elif diff < 0:\n",
    "        c = np.append(c, abs(diff))\n",
    "        C = np.hstack((C, np.zeros((n, 1))))\n",
    "\n",
    "    return C, c, w"
   ]
  },
  {
   "cell_type": "code",
   "execution_count": 6,
   "metadata": {
    "collapsed": true
   },
   "outputs": [],
   "source": [
    "def solve_uv(C, shape, u_0_init=0):\n",
    "    n, m = shape\n",
    "\n",
    "    known_i_idxs, known_j_idxs = {i for (i, _) in C}, {j for (_, j) in C}\n",
    "    if known_i_idxs != set(range(n)) or known_j_idxs != set(range(m)):\n",
    "        raise Exception('Not enough information to solve the system')\n",
    "\n",
    "    u, v = np.zeros(n), np.zeros(m)\n",
    "    u[n - 1] = u_0_init\n",
    "    u_calculated_idxs, v_calculated_idxs = {0}, set()\n",
    "    while len(u_calculated_idxs) != n and len(v_calculated_idxs) != m:\n",
    "        for i_u in (t for t in range(n) if t not in u_calculated_idxs):\n",
    "            for (i_c, j_c), c in C.items():\n",
    "                if i_u == i_c and j_c in v_calculated_idxs:\n",
    "                    u[i_u] = c - v[j_c]\n",
    "                    u_calculated_idxs.add(i_u)\n",
    "                    break\n",
    "        for j_v in (t for t in range(m) if t not in v_calculated_idxs):\n",
    "            for (i_c, j_c), c in C.items():\n",
    "                if j_v == j_c and i_c in u_calculated_idxs:\n",
    "                    v[j_v] = c - u[i_c]\n",
    "                    v_calculated_idxs.add(j_v)\n",
    "    return u, v"
   ]
  },
  {
   "cell_type": "code",
   "execution_count": 7,
   "metadata": {
    "collapsed": true
   },
   "outputs": [],
   "source": [
    "def create_base_plan(c, w):\n",
    "    n, m = len(w), len(c)\n",
    "    X_base = np.zeros((n, m))\n",
    "    c_, w_ = np.zeros(m), w.copy()\n",
    "    i = j = 0\n",
    "\n",
    "    for j in range(m):\n",
    "        while c_[j] != c[j]:\n",
    "            if c[j] - c_[j] <= w_[i]:\n",
    "                transfer = c[j] - c_[j]\n",
    "                c_[j] += transfer\n",
    "                w_[i] -= transfer\n",
    "                X_base[i, j] = transfer\n",
    "            else:\n",
    "                transfer = w_[i]\n",
    "                c_[j] += transfer\n",
    "                w_[i] -= transfer\n",
    "                X_base[i, j] = transfer\n",
    "            if not w_[i]:\n",
    "                i += 1\n",
    "    diff = w.sum() - c.sum()\n",
    "    if diff:\n",
    "        X_base[n - 1, m - 1] = diff\n",
    "    return X_base"
   ]
  },
  {
   "cell_type": "code",
   "execution_count": 8,
   "metadata": {
    "collapsed": true
   },
   "outputs": [],
   "source": [
    "def detect_cycle(X, entry_point):\n",
    "    def build_pos_matrix(X):\n",
    "        n, m = X.shape\n",
    "        A = np.zeros((n, m), dtype=object)\n",
    "        for i, j in np.argwhere(X):\n",
    "            A[i, j] = (i, j)\n",
    "\n",
    "        return A\n",
    "\n",
    "    def compress(X):\n",
    "        n, m = X.shape\n",
    "        A = np.zeros((n, m), dtype=object)\n",
    "        for i, j in np.argwhere(X):\n",
    "            A[i, j] = (i, j)\n",
    "\n",
    "        while True:\n",
    "            rows_to_delete, cols_to_delete = [], []\n",
    "            for i, row in enumerate(A):\n",
    "                if len(np.argwhere(row)) <= 1:\n",
    "                    rows_to_delete.append(i)\n",
    "            A = np.delete(A, rows_to_delete, axis=0)\n",
    "\n",
    "            for i, col in enumerate(A.T):\n",
    "                if len(np.argwhere(col)) <= 1:\n",
    "                    cols_to_delete.append(i)\n",
    "            A = np.delete(A, cols_to_delete, axis=1)\n",
    "\n",
    "            if len(rows_to_delete) == 0 and len(cols_to_delete) == 0:\n",
    "                return A\n",
    "\n",
    "    def get_2NN(X, i, j):\n",
    "        row_not_0_idxs = np.argwhere(X[i]).ravel()\n",
    "        left_neighbors_idxs, right_neighbors_idxs = np.argwhere(row_not_0_idxs < j).ravel(), \\\n",
    "                                                    np.argwhere(row_not_0_idxs > j).ravel()\n",
    "\n",
    "        left_n = X[i, row_not_0_idxs[left_neighbors_idxs.max()]] if len(left_neighbors_idxs) else None\n",
    "        right_n = X[i, row_not_0_idxs[right_neighbors_idxs.min()]] if len(right_neighbors_idxs) else None\n",
    "        left_n_dist = (j - row_not_0_idxs[left_neighbors_idxs.max()]) if (left_n is not None) else None\n",
    "        right_n_dist = (row_not_0_idxs[right_neighbors_idxs.min()] - j) if (right_n is not None) else None\n",
    "\n",
    "        col_not_0_idxs = np.argwhere(X[:, j]).ravel()\n",
    "        top_neighbors_idxs, bottom_neighbors_idxs = np.argwhere(col_not_0_idxs < i).ravel(), \\\n",
    "                                                    np.argwhere(col_not_0_idxs > i).ravel()\n",
    "\n",
    "        top_n = X[col_not_0_idxs[top_neighbors_idxs.max()], j] if len(top_neighbors_idxs) else None\n",
    "        bottom_n = X[col_not_0_idxs[bottom_neighbors_idxs.min()], j] if len(bottom_neighbors_idxs) else None\n",
    "        top_n_dist = (i - col_not_0_idxs[top_neighbors_idxs.max()]) if (top_n is not None) else None\n",
    "        bottom_n_dist = (col_not_0_idxs[bottom_neighbors_idxs.min()] - i) if (bottom_n is not None) else None\n",
    "\n",
    "        neighbors = [(left_n_dist, left_n), (right_n_dist, right_n), (top_n_dist, top_n), (bottom_n_dist, bottom_n)]\n",
    "        return tuple(map(lambda x: x[1],\n",
    "                         heapq.nsmallest(2, filter(lambda x: x[1] is not None, neighbors), key=lambda x: [0])))\n",
    "\n",
    "    def build_adjency_list(X):\n",
    "        adj = defaultdict(list)\n",
    "\n",
    "        for i, j in np.argwhere(X):\n",
    "            if len(adj[X[i, j]]) < 2:\n",
    "                adj[X[i, j]].extend(get_2NN(X, i, j))\n",
    "\n",
    "        return adj\n",
    "\n",
    "    def cycle_to_list(ring, entry_point):\n",
    "        current_p, prev_p = ring[entry_point][0], entry_point\n",
    "        r = [prev_p]\n",
    "\n",
    "        while current_p != entry_point:\n",
    "            r.append(current_p)\n",
    "            neighbors = ring[current_p]\n",
    "            if neighbors[0] != prev_p:\n",
    "                prev_p = current_p\n",
    "                current_p = neighbors[0]\n",
    "            else:\n",
    "                prev_p = current_p\n",
    "                current_p = neighbors[1]\n",
    "        return r\n",
    "\n",
    "    pos_matrix = build_pos_matrix(X)\n",
    "    compressed = compress(pos_matrix)\n",
    "    adj = build_adjency_list(compressed)\n",
    "    return cycle_to_list(adj, entry_point)"
   ]
  },
  {
   "cell_type": "code",
   "execution_count": 9,
   "metadata": {
    "collapsed": true
   },
   "outputs": [],
   "source": [
    "def create_base_C(C, B):\n",
    "    return {(i, j): C[i, j] for i, j in np.argwhere(B)}"
   ]
  },
  {
   "cell_type": "code",
   "execution_count": 10,
   "metadata": {
    "collapsed": true
   },
   "outputs": [],
   "source": [
    "def transport_task(C, c, w):\n",
    "    C, c, w = balance(C, c, w)\n",
    "    X = create_base_plan(c, w)\n",
    "    B = make_mask(X)\n",
    "    B = complete_base_plan(X, B)\n",
    "\n",
    "    while True:\n",
    "        base_C = create_base_C(C, B)\n",
    "        u, v = solve_uv(base_C, (C.shape))\n",
    "        d_min, (i, j) = argwhere_min_delta(B, C, u, v)\n",
    "        if d_min >= 0:\n",
    "            return X, (X * C).sum()\n",
    "        B[i, j] = True\n",
    "        cycle = detect_cycle(B, (i, j))\n",
    "        min_marked = cycle[1::2]\n",
    "        (theta_min_i, theta_min_j), theta = min(map(lambda x: (x, X[x]), min_marked), key=lambda x: x[1])\n",
    "\n",
    "        for i, j in cycle[1::2]:\n",
    "            X[i, j] -= theta\n",
    "        for i, j in cycle[::2]:\n",
    "            X[i, j] += theta\n",
    "\n",
    "        B[theta_min_i, theta_min_j] = False"
   ]
  },
  {
   "cell_type": "code",
   "execution_count": 11,
   "metadata": {
    "collapsed": false
   },
   "outputs": [
    {
     "name": "stdout",
     "output_type": "stream",
     "text": [
      "(array([[ 40.,   0.,  10.],\n",
      "       [  0.,   0.,  50.],\n",
      "       [  0.,  90.,  10.]]), 320.0)\n"
     ]
    }
   ],
   "source": [
    "C = np.array([\n",
    "    [2, 5, 3],\n",
    "    [4, 3, 2],\n",
    "    [5, 1, 2]\n",
    "])\n",
    "\n",
    "c = np.array([40, 90, 70])\n",
    "w = np.array([50, 50, 100])\n",
    "\n",
    "print(transport_task(C, c, w))"
   ]
  },
  {
   "cell_type": "code",
   "execution_count": 12,
   "metadata": {
    "collapsed": false
   },
   "outputs": [
    {
     "name": "stdout",
     "output_type": "stream",
     "text": [
      "(array([[  0.,   0.,  10.,   0.,   0.,  10.],\n",
      "       [  0.,   0.,   0.,  10.,  10.,  10.],\n",
      "       [ 10.,  10.,   0.,   0.,   0.,   5.]]), -130.0)\n"
     ]
    }
   ],
   "source": [
    "C = np.array([\n",
    "    [2, 8, -5, 7, 10],\n",
    "    [11, 5, 8, -8, -4],\n",
    "    [1, 3, 7, 4, 2]\n",
    "])\n",
    "\n",
    "c = np.array([10, 10, 10, 10, 10])\n",
    "w = np.array([20, 30, 25])\n",
    "\n",
    "print(transport_task(C, c, w))"
   ]
  }
 ],
 "metadata": {
  "kernelspec": {
   "display_name": "Python 3",
   "language": "python",
   "name": "python3"
  },
  "language_info": {
   "codemirror_mode": {
    "name": "ipython",
    "version": 3
   },
   "file_extension": ".py",
   "mimetype": "text/x-python",
   "name": "python",
   "nbconvert_exporter": "python",
   "pygments_lexer": "ipython3",
   "version": "3.5.1"
  }
 },
 "nbformat": 4,
 "nbformat_minor": 0
}
