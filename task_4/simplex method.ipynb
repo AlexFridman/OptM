{
 "cells": [
  {
   "cell_type": "code",
   "execution_count": 1,
   "metadata": {
    "collapsed": true
   },
   "outputs": [],
   "source": [
    "import numpy as np"
   ]
  },
  {
   "cell_type": "code",
   "execution_count": 2,
   "metadata": {
    "collapsed": false
   },
   "outputs": [],
   "source": [
    "def simplex_2nd_stage(x, A, b, c, j_b):\n",
    "    m, n = A.shape\n",
    "    while True:\n",
    "        A_b, c_b = A[: , j_b], c[j_b]\n",
    "        B = np.linalg.inv(A_b)\n",
    "        u = c_b.dot(B)# calc capacity vector\n",
    "        e = u.dot(A) - c.T# calc estimates\n",
    "\n",
    "        if np.all(e[j_b == False] >= 0):\n",
    "            return x, j_b\n",
    "\n",
    "        j_0 = np.argwhere((e < 0) & (j_b == False)).min()\n",
    "\n",
    "        z = B.dot(A[: , j_0])\n",
    "\n",
    "        if np.all(z[: m] <= 0):\n",
    "            raise Exception('There is no solution.')\n",
    "\n",
    "        theta = np.array([x[j] / z[i]\n",
    "            if z[i] > 0\n",
    "            else np.infty\n",
    "            for i, j in zip(range(m), np.argwhere(j_b))\n",
    "        ])\n",
    "\n",
    "        theta_0, s = theta.min(), theta.argmin()\n",
    "        j_s = np.argwhere(j_b).ravel()[s]\n",
    "\n",
    "        # update plan\n",
    "        mask = (j_b == False)\n",
    "        mask[j_0] = False\n",
    "        x[mask] = 0\n",
    "        x[j_0] = theta_0\n",
    "        x[j_b] = x[j_b] - theta_0 * z\n",
    "\n",
    "        # update basis\n",
    "        j_b[j_s] = False\n",
    "        j_b[j_0] = True"
   ]
  },
  {
   "cell_type": "code",
   "execution_count": 3,
   "metadata": {
    "collapsed": true
   },
   "outputs": [],
   "source": [
    "def simplex_1st_stage(A, b, c):\n",
    "    m, n = A.shape\n",
    "    neg_idxs = np.argwhere(b < 0).ravel()\n",
    "    A[neg_idxs] *= -1\n",
    "    b[neg_idxs] *= -1\n",
    "    \n",
    "    A_hat = np.hstack((A, np.identity(m)))\n",
    "    x_0_hat = np.hstack((np.zeros(n), b))\n",
    "    c_hat = np.hstack((np.zeros(n), [-1]*m))\n",
    "    j_b_hat = np.hstack(([False] * n, [True] * m))\n",
    "    \n",
    "    x_s, j_b_s = simplex_2nd_stage(x_0_hat, A_hat, b, c_hat, j_b_hat)\n",
    "\n",
    "    if np.all(x_s[n:] != 0):\n",
    "        raise Exception('There is no solution.')\n",
    "\n",
    "    while True:\n",
    "        j_b_a = np.argwhere(j_b_s[n:])\n",
    "        if not j_b_a:\n",
    "            break\n",
    "        k = j_b_a.max()\n",
    "        A_b_s = A_hat[:,j_b_s]\n",
    "        A_b_s_inv = np.linalg.inv(A_b_s)\n",
    "        alpha = [A_b_s_inv[k].dot(A_hat[:,j]) for j in range(n)]\n",
    "        j_0 = None\n",
    "        for i in range(n):\n",
    "            if i not in np.argwhere(j_b_s) and alpha[i] != 0:\n",
    "                j_0 = i\n",
    "                break\n",
    "        if j_0 is None:\n",
    "            A_hat = np.delete(A_hat, k-n, 0)\n",
    "            A = np.delete(A, k-n, 0)\n",
    "            b = np.delete(b, k-n)\n",
    "            x_s = np.delete(x, k)\n",
    "            j_b_s = np.delete(j_b_s, k)\n",
    "            continue\n",
    "        else:\n",
    "            j_b_s[k] = False\n",
    "            j_b_s[j_0] = True\n",
    "    return simplex_2nd_stage(x[:n], A, b, c, j_b_s[:n])"
   ]
  },
  {
   "cell_type": "code",
   "execution_count": 4,
   "metadata": {
    "collapsed": false,
    "scrolled": false
   },
   "outputs": [
    {
     "data": {
      "text/plain": [
       "(array([ 7., -1.,  0.]), array([ True,  True, False], dtype=bool))"
      ]
     },
     "execution_count": 4,
     "metadata": {},
     "output_type": "execute_result"
    }
   ],
   "source": [
    "A = np.array([\n",
    "    [1, 3, 1],\n",
    "    [0, 2, 1]\n",
    "], dtype = np.float)\n",
    "\n",
    "\n",
    "c = np.array([1, 2, 0], dtype = np.float)\n",
    "b = np.array([4, 2], dtype = np.float)\n",
    "x = np.array([7, -1, 0], dtype = np.float)\n",
    "j_b = np.array([True, True, False])\n",
    "\n",
    "\n",
    "\n",
    "simplex_1st_stage(A, b, c)"
   ]
  },
  {
   "cell_type": "code",
   "execution_count": 5,
   "metadata": {
    "collapsed": false
   },
   "outputs": [
    {
     "data": {
      "text/plain": [
       "(array([ 7., -1.,  0.]), array([ True,  True, False], dtype=bool))"
      ]
     },
     "execution_count": 5,
     "metadata": {},
     "output_type": "execute_result"
    }
   ],
   "source": [
    "simplex_2nd_stage(x, A, b, c, j_b)"
   ]
  }
 ],
 "metadata": {
  "kernelspec": {
   "display_name": "Python 3",
   "language": "python",
   "name": "python3"
  },
  "language_info": {
   "codemirror_mode": {
    "name": "ipython",
    "version": 3
   },
   "file_extension": ".py",
   "mimetype": "text/x-python",
   "name": "python",
   "nbconvert_exporter": "python",
   "pygments_lexer": "ipython3",
   "version": "3.5.1"
  }
 },
 "nbformat": 4,
 "nbformat_minor": 0
}
